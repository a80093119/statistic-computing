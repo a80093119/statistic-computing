{
 "cells": [
  {
   "cell_type": "code",
   "execution_count": 214,
   "metadata": {},
   "outputs": [
    {
     "name": "stdout",
     "output_type": "stream",
     "text": [
      "第一題 =  0.510147375938053\n"
     ]
    }
   ],
   "source": [
    "#1.\n",
    "import numpy as np\n",
    "import math\n",
    "\n",
    "\n",
    "Total = []\n",
    "n = 1000\n",
    "for i in range(n):\n",
    "    x = np.random.uniform(0, 1)\n",
    "    y = np.random.uniform(0, 1)\n",
    "    g = math.exp(-(y+1)*(1/x-1))*(1/x-1) / pow(x,2)\n",
    "    Total.append(g)\n",
    "print(\"第一題 = \", sum(Total)/n)"
   ]
  },
  {
   "cell_type": "code",
   "execution_count": 22,
   "metadata": {},
   "outputs": [
    {
     "name": "stdout",
     "output_type": "stream",
     "text": [
      "E(N) =  1.04\n",
      "Var(N) =  1.0104\n"
     ]
    }
   ],
   "source": [
    "#2.\n",
    "import numpy as np\n",
    "import math\n",
    "\n",
    "X = []\n",
    "sim = 1000\n",
    "for k in range(sim):\n",
    "    cards = []\n",
    "    N = 0\n",
    "    n = 100\n",
    "    \n",
    "    cards.append(math.ceil(np.random.uniform(0, 1)*n))\n",
    "    while(len(cards) < n):\n",
    "        U = math.ceil(np.random.uniform(0, 1)*n)\n",
    "        if U in cards:\n",
    "               continue\n",
    "        else: \n",
    "            cards.append(U)\n",
    "    for i in range(len(cards)):\n",
    "        if cards[i] == i+1:\n",
    "            N = N + 1\n",
    "    X.append(N)\n",
    "\n",
    "print(\"E(N) = \", sum(X)/sim)\n",
    "print(\"Var(N) = \", sum(np.power(X,2))/sim - np.power(sum(X)/sim,2))"
   ]
  },
  {
   "cell_type": "code",
   "execution_count": 276,
   "metadata": {},
   "outputs": [
    {
     "name": "stdout",
     "output_type": "stream",
     "text": [
      "Exactly E(N) 0.9999999999999997\n",
      "Exactly Var(N) 1.0000000000000002\n"
     ]
    }
   ],
   "source": [
    "#2.Exactly value\n",
    "import numpy as np\n",
    "N = []\n",
    "N_2 = []\n",
    "n = 100\n",
    "N.append(1/np.math.factorial(n-1))\n",
    "N_2.append(pow(n,2)*(1/np.math.factorial(n)))\n",
    "for i in range(n-1):\n",
    "    k = []\n",
    "    for j in range(i+1):\n",
    "        fac = pow(-1,j+1)*(1/np.math.factorial(j+1))\n",
    "        k.append(fac)\n",
    "    X = (99-i)*(1/np.math.factorial(99-i))*(1+sum(k))\n",
    "    N.append(X)\n",
    "    X_2 = pow((99-i),2)*(1/np.math.factorial(99-i))*(1+sum(k))\n",
    "    N_2.append(X_2)\n",
    "print(\"Exactly E(N)\", sum(N))\n",
    "print(\"Exactly Var(N)\",sum(N_2) - np.power(sum(N),2))\n"
   ]
  },
  {
   "cell_type": "code",
   "execution_count": 245,
   "metadata": {},
   "outputs": [
    {
     "name": "stdout",
     "output_type": "stream",
     "text": [
      "E(X) =  7.939\n"
     ]
    }
   ],
   "source": [
    "#3(a)\n",
    "import numpy as np\n",
    "import math\n",
    "\n",
    "total_X = []\n",
    "sim = 1000\n",
    "r = 4\n",
    "p = 0.5\n",
    "for i in range(sim):\n",
    "    X = 0\n",
    "    count = 0\n",
    "    while(count < r):\n",
    "        U = np.random.uniform(0, 1)\n",
    "        X = X + int(math.log10(U)/math.log10(1-p)) + 1\n",
    "        count = count + 1\n",
    "    total_X.append(X)\n",
    "#total_X\n",
    "print(\"E(X) = \", sum(total_X)/sim)"
   ]
  },
  {
   "cell_type": "code",
   "execution_count": 77,
   "metadata": {},
   "outputs": [
    {
     "name": "stdout",
     "output_type": "stream",
     "text": [
      "E(X) =  7.965\n"
     ]
    }
   ],
   "source": [
    "#3(c)\n",
    "import numpy as np\n",
    "\n",
    "r = 4\n",
    "p = 0.5\n",
    "total_X = []\n",
    "sim = 1000\n",
    "for i in range(sim):\n",
    "    U = np.random.uniform(0, 1)\n",
    "    j = r\n",
    "    X = 0\n",
    "    P = []\n",
    "    P.append(np.math.factorial(j-1)/(np.math.factorial(j-r)*np.math.factorial(r-1))*pow(p,r)*pow(1-p,j-r))\n",
    "    while(U >= sum(P)):\n",
    "        P.append(j*(1-p)/(j+1-r)*P[j-r])\n",
    "        if U < sum(P):\n",
    "            X = j + 1\n",
    "            break\n",
    "        else:\n",
    "            j = j + 1 \n",
    "\n",
    "    else:\n",
    "        X = j\n",
    "    total_X.append(X)\n",
    "total_X\n",
    "print(\"E(X) = \", sum(total_X)/sim)"
   ]
  },
  {
   "cell_type": "code",
   "execution_count": 246,
   "metadata": {},
   "outputs": [
    {
     "name": "stdout",
     "output_type": "stream",
     "text": [
      "E(X) =  7.926\n"
     ]
    }
   ],
   "source": [
    "#3(d)\n",
    "import numpy as np\n",
    "import math\n",
    "\n",
    "total_X = []\n",
    "sim = 1000\n",
    "r = 4\n",
    "p = 0.5\n",
    "for i in range(sim):\n",
    "    X = 0\n",
    "    count = 0\n",
    "    while(count < r):\n",
    "        U = np.random.uniform(0, 1)\n",
    "        n = 1\n",
    "        while(U >= p):\n",
    "            U = np.random.uniform(0, 1)\n",
    "            n = n + 1\n",
    "        X = X + n\n",
    "        count = count + 1\n",
    "    total_X.append(X)\n",
    "#total_X\n",
    "print(\"E(X) = \", sum(total_X)/sim)"
   ]
  }
 ],
 "metadata": {
  "kernelspec": {
   "display_name": "Python 3",
   "language": "python",
   "name": "python3"
  },
  "language_info": {
   "codemirror_mode": {
    "name": "ipython",
    "version": 3
   },
   "file_extension": ".py",
   "mimetype": "text/x-python",
   "name": "python",
   "nbconvert_exporter": "python",
   "pygments_lexer": "ipython3",
   "version": "3.7.3"
  }
 },
 "nbformat": 4,
 "nbformat_minor": 2
}
