{
 "cells": [
  {
   "cell_type": "code",
   "execution_count": 21,
   "metadata": {},
   "outputs": [],
   "source": [
    "import numpy as np\n",
    "import math\n",
    "import matplotlib.pyplot as plt"
   ]
  },
  {
   "cell_type": "code",
   "execution_count": 130,
   "metadata": {},
   "outputs": [
    {
     "data": {
      "text/plain": [
       "0.9261610942479441"
      ]
     },
     "execution_count": 130,
     "metadata": {},
     "output_type": "execute_result"
    }
   ],
   "source": [
    "#1(a) Inverse method\n",
    "U = np.random.uniform(0, 1)\n",
    "X = math.sqrt(2*U+1/4)-1/2\n",
    "X"
   ]
  },
  {
   "cell_type": "code",
   "execution_count": 131,
   "metadata": {},
   "outputs": [
    {
     "data": {
      "text/plain": [
       "0.8598917239083217"
      ]
     },
     "execution_count": 131,
     "metadata": {},
     "output_type": "execute_result"
    }
   ],
   "source": [
    "#1(b) AR_Method\n",
    "U = np.random.uniform(0, 1, 2)\n",
    "Y = U[0]                        #inverse func. of fY(y)\n",
    "while(U[1] > (1+2*Y)/3):\n",
    "    U = np.random.uniform(0, 1, 2)\n",
    "    Y = U[0]\n",
    "X = Y\n",
    "X"
   ]
  },
  {
   "cell_type": "code",
   "execution_count": 132,
   "metadata": {},
   "outputs": [
    {
     "data": {
      "text/plain": [
       "0.22752293846955896"
      ]
     },
     "execution_count": 132,
     "metadata": {},
     "output_type": "execute_result"
    }
   ],
   "source": [
    "#1(c) composition method\n",
    "U = np.random.uniform(0, 1, 2)\n",
    "if U[1] <= 1/2:\n",
    "    X = U[0]\n",
    "else:\n",
    "    X = math.sqrt(U[0])\n",
    "X"
   ]
  },
  {
   "cell_type": "code",
   "execution_count": 133,
   "metadata": {},
   "outputs": [
    {
     "data": {
      "text/plain": [
       "0.601098338269985"
      ]
     },
     "execution_count": 133,
     "metadata": {},
     "output_type": "execute_result"
    }
   ],
   "source": [
    "#2-1 AR_Method\n",
    "U = np.random.uniform(0, 1, 2)\n",
    "Y = -math.log(U[0])\n",
    "while(U[1] > 3*(1+2*math.exp(-Y)-3*math.exp((-2)*Y))/4):\n",
    "    U = np.random.uniform(0, 1, 2)\n",
    "    Y = -math.log(U[0])\n",
    "X = Y\n",
    "X"
   ]
  },
  {
   "cell_type": "code",
   "execution_count": 134,
   "metadata": {},
   "outputs": [
    {
     "data": {
      "text/plain": [
       "1.0507245210501779"
      ]
     },
     "execution_count": 134,
     "metadata": {},
     "output_type": "execute_result"
    }
   ],
   "source": [
    "#2-2\n",
    "U = np.random.uniform(0, 1, 2)\n",
    "Y = -math.log(U[0])\n",
    "Z = -math.log(U[1])/2\n",
    "X = max(Y,Z)\n",
    "X"
   ]
  },
  {
   "cell_type": "code",
   "execution_count": 136,
   "metadata": {},
   "outputs": [
    {
     "data": {
      "text/plain": [
       "0.9777788878009459"
      ]
     },
     "execution_count": 136,
     "metadata": {},
     "output_type": "execute_result"
    }
   ],
   "source": [
    "#3-1 AR_Method\n",
    "U = np.random.uniform(0, 1, 2)\n",
    "Y = U[0]\n",
    "while(U[1] > (1/4+2*pow(Y,3)+5*pow(Y,4)/4)/3.5 ):\n",
    "    U = np.random.uniform(0, 1, 2)\n",
    "    Y = U[0]\n",
    "X = Y\n",
    "X"
   ]
  },
  {
   "cell_type": "code",
   "execution_count": 137,
   "metadata": {},
   "outputs": [
    {
     "data": {
      "text/plain": [
       "0.6572832870277298"
      ]
     },
     "execution_count": 137,
     "metadata": {},
     "output_type": "execute_result"
    }
   ],
   "source": [
    "#3-2 composition method\n",
    "U = np.random.uniform(0, 1, 2)\n",
    "if U[1] <= 1/2 :\n",
    "    X = pow(U[0],1/4)\n",
    "elif U[1] <= 3/4 :\n",
    "    X = pow(U[0],1/5)\n",
    "else: \n",
    "    X = U[0]\n",
    "X"
   ]
  },
  {
   "cell_type": "code",
   "execution_count": null,
   "metadata": {},
   "outputs": [],
   "source": []
  }
 ],
 "metadata": {
  "kernelspec": {
   "display_name": "Python 3",
   "language": "python",
   "name": "python3"
  },
  "language_info": {
   "codemirror_mode": {
    "name": "ipython",
    "version": 3
   },
   "file_extension": ".py",
   "mimetype": "text/x-python",
   "name": "python",
   "nbconvert_exporter": "python",
   "pygments_lexer": "ipython3",
   "version": "3.7.3"
  }
 },
 "nbformat": 4,
 "nbformat_minor": 2
}
