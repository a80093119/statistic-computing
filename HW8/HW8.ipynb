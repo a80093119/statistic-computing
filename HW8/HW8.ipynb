{
 "cells": [
  {
   "cell_type": "code",
   "execution_count": 55,
   "metadata": {},
   "outputs": [],
   "source": [
    "import numpy as np\n",
    "import math\n",
    "import pandas as pd\n",
    "from collections import Counter"
   ]
  },
  {
   "cell_type": "code",
   "execution_count": 52,
   "metadata": {},
   "outputs": [
    {
     "name": "stdout",
     "output_type": "stream",
     "text": [
      "p-value =  0.8211\n"
     ]
    }
   ],
   "source": [
    "def func1(x):\n",
    "    Y = []\n",
    "    U = np.random.uniform(0, 1, x)\n",
    "    for i in range(x):\n",
    "        if U[i]<1/6:\n",
    "            Y.append(1)\n",
    "        elif U[i]<2/6:\n",
    "            Y.append(2)\n",
    "        elif U[i]<3/6:\n",
    "            Y.append(3)\n",
    "        elif U[i]<4/6:\n",
    "            Y.append(4)\n",
    "        elif U[i]<5/6:\n",
    "            Y.append(5)\n",
    "        else:\n",
    "            Y.append(6)\n",
    "    return Y\n",
    "T = 0\n",
    "sim = 10000\n",
    "for j in range(sim):\n",
    "    count = Counter(func1(1000))\n",
    "    y = []\n",
    "    for i in range(6):\n",
    "        y.append(count[i+1])\n",
    "    y_hat = [pow((N - 1000/6), 2)/(1000/6) for N in y]\n",
    "    if sum(y_hat)>=2.179:\n",
    "        T = T+1\n",
    "print(\"p-value = \", T/sim)"
   ]
  },
  {
   "cell_type": "code",
   "execution_count": 96,
   "metadata": {},
   "outputs": [
    {
     "name": "stdout",
     "output_type": "stream",
     "text": [
      "p-value =  0.2939\n"
     ]
    }
   ],
   "source": [
    "count = 0\n",
    "sim = 10000\n",
    "for i in range(sim):\n",
    "    U = pd.Series(np.ceil(100*np.random.uniform(0, 1, 21)))\n",
    "    R = U.rank()\n",
    "    R_hat = 12*(pow(sum(R[0:7])-77, 2)+pow(sum(R[7:14])-77, 2)+pow(sum(R[14:21])-77, 2))/(21*22*7)\n",
    "    if R_hat>=2.5213:\n",
    "        count = count+1\n",
    "print(\"p-value = \", count/sim)"
   ]
  }
 ],
 "metadata": {
  "kernelspec": {
   "display_name": "Python 3",
   "language": "python",
   "name": "python3"
  },
  "language_info": {
   "codemirror_mode": {
    "name": "ipython",
    "version": 3
   },
   "file_extension": ".py",
   "mimetype": "text/x-python",
   "name": "python",
   "nbconvert_exporter": "python",
   "pygments_lexer": "ipython3",
   "version": "3.7.3"
  }
 },
 "nbformat": 4,
 "nbformat_minor": 2
}
