{
 "cells": [
  {
   "cell_type": "code",
   "execution_count": 2,
   "metadata": {},
   "outputs": [],
   "source": [
    "import numpy as np\n",
    "import math"
   ]
  },
  {
   "cell_type": "code",
   "execution_count": 81,
   "metadata": {},
   "outputs": [
    {
     "name": "stdout",
     "output_type": "stream",
     "text": [
      "average spend time =  0.5472781358657489\n",
      "MSE =  5.2751362891470756e-05\n"
     ]
    }
   ],
   "source": [
    "n = 1000\n",
    "sim = 100\n",
    "average_spendtime = []\n",
    "theta = []\n",
    "var = []\n",
    "for k in range(n):\n",
    "    t = 0\n",
    "    I = 0\n",
    "    T = 5\n",
    "    S = []\n",
    "    lam = 4\n",
    "    D = []\n",
    "    spend_time = []\n",
    "    count = 0\n",
    "    U = np.random.uniform(0,1)\n",
    "    t = t -math.log(U)/lam\n",
    "    while(t <= T):\n",
    "        I = I+1\n",
    "        S.append(t)\n",
    "        U = np.random.uniform(0,1)\n",
    "        t = t -math.log(U)/lam\n",
    "\n",
    "    U = np.random.uniform(0,1)\n",
    "    G = -math.log(U)/4.2\n",
    "    D.append(S[0]+G)\n",
    "    spend_time.append(D[0]-S[0])\n",
    "    for i in range(3):\n",
    "        U = np.random.uniform(0,1)\n",
    "        G = -math.log(U)/4.2\n",
    "        D.append(max(D[i], S[i+1])+G)\n",
    "        spend_time.append(D[i+1]-S[i+1])\n",
    "    for j in range(4,I):\n",
    "        if S[j] > D[count]:\n",
    "            count = count + 1\n",
    "            U = np.random.uniform(0,1)\n",
    "            G = -math.log(U)/4.2\n",
    "            D.append(max(D[count+2], S[j])+G)\n",
    "            spend_time.append(D[count+3]-S[j])\n",
    "    average = sum(spend_time)/len(spend_time)\n",
    "    average_spendtime.append(average)\n",
    "for i in range(sim):\n",
    "    X = np.random.choice(average_spendtime, n)\n",
    "    theta.append(sum(X)/n)\n",
    "theta_mean = sum(theta)/sim\n",
    "bias = theta_mean - sum(average_spendtime)/n\n",
    "for j in range(sim):\n",
    "    var.append(pow(theta[j]-theta_mean,2))\n",
    "variance = sum(var)/(sim-1)\n",
    "print(\"average spend time = \", sum(average_spendtime)/n)\n",
    "MSE = pow(bias,2) + variance\n",
    "print(\"MSE = \", MSE)"
   ]
  },
  {
   "cell_type": "code",
   "execution_count": null,
   "metadata": {},
   "outputs": [],
   "source": []
  }
 ],
 "metadata": {
  "kernelspec": {
   "display_name": "Python 3",
   "language": "python",
   "name": "python3"
  },
  "language_info": {
   "codemirror_mode": {
    "name": "ipython",
    "version": 3
   },
   "file_extension": ".py",
   "mimetype": "text/x-python",
   "name": "python",
   "nbconvert_exporter": "python",
   "pygments_lexer": "ipython3",
   "version": "3.6.8"
  }
 },
 "nbformat": 4,
 "nbformat_minor": 2
}
