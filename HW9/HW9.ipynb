{
 "cells": [
  {
   "cell_type": "code",
   "execution_count": 71,
   "metadata": {},
   "outputs": [],
   "source": [
    "import numpy as np\n",
    "import math\n",
    "import matplotlib.pyplot as plt"
   ]
  },
  {
   "cell_type": "code",
   "execution_count": 72,
   "metadata": {},
   "outputs": [
    {
     "data": {
      "image/png": "[encoded data removed]",
      "text/plain": [
       "<Figure size 432x288 with 1 Axes>"
      ]
     },
     "metadata": {
      "needs_background": "light"
     },
     "output_type": "display_data"
    }
   ],
   "source": [
    "times = []\n",
    "sim = 1000\n",
    "n = 9\n",
    "for k in range(sim):\n",
    "    T = 0\n",
    "    X = np.random.uniform(0, 1, n)\n",
    "    X_sort = sorted(X)\n",
    "    Z = []\n",
    "    for j in range(n-1):\n",
    "        Z.append(X_sort[j+1] - X_sort[j])\n",
    "    Z = np.array(Z)\n",
    "    while (Z <= 0.1).any() == True:\n",
    "        U = np.random.uniform(0, 1)\n",
    "        index = int(n*U)\n",
    "        new = np.random.uniform(0, 1)\n",
    "        Y = np.delete(X, index)\n",
    "        d = np.array([abs(a - new) for a in Y])\n",
    "        if (d > 0.1).all() == True:\n",
    "            X[index] = new\n",
    "        X_sort = sorted(X)\n",
    "        Z = []\n",
    "        for i in range(n-1):\n",
    "            Z.append(X_sort[i+1] - X_sort[i])\n",
    "        Z = np.array(Z)\n",
    "        T = T + 1\n",
    "    times.append(T)\n",
    "times\n",
    "plt.hist(times)\n",
    "plt.show()"
   ]
  },
  {
   "cell_type": "code",
   "execution_count": null,
   "metadata": {},
   "outputs": [],
   "source": []
  }
 ],
 "metadata": {
  "kernelspec": {
   "display_name": "Python 3",
   "language": "python",
   "name": "python3"
  },
  "language_info": {
   "codemirror_mode": {
    "name": "ipython",
    "version": 3
   },
   "file_extension": ".py",
   "mimetype": "text/x-python",
   "name": "python",
   "nbconvert_exporter": "python",
   "pygments_lexer": "ipython3",
   "version": "3.7.3"
  }
 },
 "nbformat": 4,
 "nbformat_minor": 2
}
