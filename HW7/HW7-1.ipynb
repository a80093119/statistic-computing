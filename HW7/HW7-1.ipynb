{
 "cells": [
  {
   "cell_type": "code",
   "execution_count": 2,
   "metadata": {},
   "outputs": [],
   "source": [
    "import numpy as np\n",
    "import math"
   ]
  },
  {
   "cell_type": "code",
   "execution_count": 47,
   "metadata": {},
   "outputs": [
    {
     "name": "stdout",
     "output_type": "stream",
     "text": [
      "E(X|X>10) =  10.999923079505853\n",
      "sd(mean(EX)) =  0.009894998731308785\n",
      "n =  9600\n"
     ]
    }
   ],
   "source": [
    "sim = 1000\n",
    "n =0\n",
    "sd = 1\n",
    "while(sd >= 0.01):\n",
    "    EX = []\n",
    "    n = n+100\n",
    "    for i in range(sim):\n",
    "        X = np.random.exponential(scale = 1.0, size = n)\n",
    "        EX.append(10 + np.mean(X)) \n",
    "    sd = np.std(EX)\n",
    "    \n",
    "print(\"E(X|X>10) = \", np.mean(EX))\n",
    "print(\"sd(mean(EX)) = \", sd)\n",
    "print(\"n = \", n)"
   ]
  },
  {
   "cell_type": "code",
   "execution_count": 36,
   "metadata": {},
   "outputs": [
    {
     "name": "stdout",
     "output_type": "stream",
     "text": [
      "E(X|X>10) =  11.000261207875088\n",
      "sd(mean(EX)) =  0.009979995511674649\n",
      "n =  18300\n"
     ]
    }
   ],
   "source": [
    "sim = 1000\n",
    "n =0\n",
    "sd = 1\n",
    "while(sd >= 0.01):\n",
    "    n = n+100\n",
    "    EX = []\n",
    "    for i in range(sim):\n",
    "        X = np.random.exponential(scale = 10, size = n)\n",
    "        y = [10*math.exp(-0.9*a) for a in X]\n",
    "        EX.append(10 + np.mean(X * y)) \n",
    "    sd = np.std(EX)\n",
    "    \n",
    "print(\"E(X|X>10) = \", np.mean(EX))\n",
    "print(\"sd(mean(EX)) = \", sd)\n",
    "print(\"n = \", n)"
   ]
  },
  {
   "cell_type": "code",
   "execution_count": null,
   "metadata": {},
   "outputs": [],
   "source": []
  }
 ],
 "metadata": {
  "kernelspec": {
   "display_name": "Python 3",
   "language": "python",
   "name": "python3"
  },
  "language_info": {
   "codemirror_mode": {
    "name": "ipython",
    "version": 3
   },
   "file_extension": ".py",
   "mimetype": "text/x-python",
   "name": "python",
   "nbconvert_exporter": "python",
   "pygments_lexer": "ipython3",
   "version": "3.7.3"
  }
 },
 "nbformat": 4,
 "nbformat_minor": 2
}
