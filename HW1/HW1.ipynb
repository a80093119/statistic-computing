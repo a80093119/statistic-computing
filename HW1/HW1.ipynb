{
 "cells": [
  {
   "cell_type": "code",
   "execution_count": 1,
   "metadata": {},
   "outputs": [
    {
     "name": "stdout",
     "output_type": "stream",
     "text": [
      "11(a) =  -0.9013875357147583\n",
      "11(b) =  -0.9731691261579989\n"
     ]
    }
   ],
   "source": [
    "import numpy as np\n",
    "\n",
    "U = np.random.uniform(0, 1, 100)\n",
    "print(\"11(a) = \", np.corrcoef(U, np.sqrt(1-pow(U,2)))[0,1]) \n",
    "print(\"11(b) = \", np.corrcoef(pow(U,2), np.sqrt(1-pow(U,2)))[0,1]) \n"
   ]
  },
  {
   "cell_type": "code",
   "execution_count": 3,
   "metadata": {},
   "outputs": [
    {
     "data": {
      "text/plain": [
       "[2.64, 2.745, 2.7262]"
      ]
     },
     "execution_count": 3,
     "metadata": {},
     "output_type": "execute_result"
    }
   ],
   "source": [
    "import numpy as np\n",
    "\n",
    "num = [100, 1000, 10000]\n",
    "value = []\n",
    "for k in num:\n",
    "    N = []\n",
    "    n = k\n",
    "    for i in range(n):\n",
    "        count = 1\n",
    "        U = np.random.uniform(0, 1)\n",
    "        for j in range(10000):\n",
    "            if U < 1:\n",
    "                U = U + np.random.uniform(0, 1)\n",
    "                count = count + 1\n",
    "            else: \n",
    "                N.append(count)\n",
    "                count = 0\n",
    "                break\n",
    "    value.append(sum(N)/n)\n",
    "value\n"
   ]
  },
  {
   "cell_type": "code",
   "execution_count": null,
   "metadata": {},
   "outputs": [],
   "source": []
  },
  {
   "cell_type": "code",
   "execution_count": null,
   "metadata": {},
   "outputs": [],
   "source": []
  }
 ],
 "metadata": {
  "kernelspec": {
   "display_name": "Python 3",
   "language": "python",
   "name": "python3"
  },
  "language_info": {
   "codemirror_mode": {
    "name": "ipython",
    "version": 3
   },
   "file_extension": ".py",
   "mimetype": "text/x-python",
   "name": "python",
   "nbconvert_exporter": "python",
   "pygments_lexer": "ipython3",
   "version": "3.5.6"
  }
 },
 "nbformat": 4,
 "nbformat_minor": 2
}
