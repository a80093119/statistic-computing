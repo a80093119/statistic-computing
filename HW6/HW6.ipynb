{
 "cells": [
  {
   "cell_type": "code",
   "execution_count": 2,
   "metadata": {},
   "outputs": [],
   "source": [
    "import numpy as np\n",
    "import math"
   ]
  },
  {
   "cell_type": "code",
   "execution_count": 227,
   "metadata": {},
   "outputs": [
    {
     "name": "stdout",
     "output_type": "stream",
     "text": [
      "theta hat 35.73279441986678\n",
      "variance 359.4205742922175\n"
     ]
    }
   ],
   "source": [
    "#a\n",
    "variance = []\n",
    "mean_spendtime = []\n",
    "sim = 10000\n",
    "for j in range(sim):    \n",
    "    t = 0\n",
    "    I = 0\n",
    "    T = 15\n",
    "    S = []\n",
    "    lam = 2\n",
    "    D = []\n",
    "    spend_time = []\n",
    "    U = np.random.uniform(0,1)\n",
    "    t = t -math.log(U)/lam\n",
    "    while(t <= T):\n",
    "        I = I+1\n",
    "        S.append(t)\n",
    "        U = np.random.uniform(0,1)\n",
    "        t = t -math.log(U)/lam\n",
    "\n",
    "    U = np.random.uniform(0,1)\n",
    "    G = -math.log(U)\n",
    "    D.append(S[0]+G)\n",
    "    spend_time.append(D[0] - S[0])\n",
    "    for i in range(9):\n",
    "        U = np.random.uniform(0,1)\n",
    "        G = -math.log(U)\n",
    "        D.append(max(D[i], S[i+1])+G)\n",
    "        spend_time.append(D[i+1]-S[i+1])\n",
    "    theta = sum(spend_time)\n",
    "    mean_spendtime.append(theta)\n",
    "print(\"theta hat\", np.mean(mean_spendtime)) \n",
    "print(\"variance\", np.var(mean_spendtime))\n"
   ]
  },
  {
   "cell_type": "code",
   "execution_count": 11,
   "metadata": {},
   "outputs": [
    {
     "name": "stdout",
     "output_type": "stream",
     "text": [
      "theta hat 35.797677153050145\n",
      "variance 82.175129640269\n"
     ]
    }
   ],
   "source": [
    "#b\n",
    "variance = []\n",
    "mean_spendtime = []\n",
    "sim = 10000\n",
    "for j in range(sim):    \n",
    "    t1 = 0\n",
    "    t2 = 0\n",
    "    S1 = []\n",
    "    S2 = []\n",
    "    lam = 2\n",
    "    D1 = []\n",
    "    D2 = []\n",
    "    spend_time1 = []\n",
    "    spend_time2 = []\n",
    "    U = np.random.uniform(0,1,10)\n",
    "    for w in range(10):\n",
    "        t1 = t1 -math.log(U[w])/lam\n",
    "        S1.append(t1)\n",
    "        t2 = t2 -math.log(1-U[w])/lam\n",
    "        S2.append(t2)\n",
    "    U = np.random.uniform(0,1)\n",
    "    G1 = -math.log(U)\n",
    "    G2 = -math.log(1-U)\n",
    "    D1.append(S1[0]+G1)\n",
    "    spend_time1.append(D1[0] - S1[0])\n",
    "    D2.append(S2[0]+G2)\n",
    "    spend_time2.append(D2[0] - S2[0])\n",
    "    for i in range(9):\n",
    "        U = np.random.uniform(0,1)\n",
    "        G1 = -math.log(U)\n",
    "        G2 = -math.log(1-U)\n",
    "        D1.append(max(D1[i], S1[i+1]) + G1)\n",
    "        spend_time1.append(D1[i+1]-S1[i+1])\n",
    "        D2.append(max(D2[i], S2[i+1]) + G2)\n",
    "        spend_time2.append(D2[i+1]-S2[i+1])\n",
    "    theta1 = sum(spend_time1)\n",
    "    theta2 = sum(spend_time2)\n",
    "    mean_spendtime.append((theta1+theta2)/2)\n",
    "print(\"theta hat\", np.mean(mean_spendtime)) \n",
    "print(\"variance\", np.var(mean_spendtime))"
   ]
  },
  {
   "cell_type": "code",
   "execution_count": 5,
   "metadata": {},
   "outputs": [
    {
     "name": "stdout",
     "output_type": "stream",
     "text": [
      "theta hat 35.61693359343921\n",
      "variance 99.02987546133897\n",
      "5.131426527968613\n"
     ]
    }
   ],
   "source": [
    "#c\n",
    "Y = []\n",
    "variance = []\n",
    "mean_spendtime = []\n",
    "sim = 10000\n",
    "for j in range(sim):    \n",
    "    t = 0\n",
    "    S = []\n",
    "    y = []\n",
    "    lam = 2\n",
    "    D = []\n",
    "    spend_time = []\n",
    "    U = np.random.uniform(0,1,10)\n",
    "    for w in range(10):\n",
    "        t = t -math.log(U[w])/lam\n",
    "        S.append(t)\n",
    "    U = np.random.uniform(0,1)\n",
    "    G = -math.log(U)\n",
    "    y.append(G)\n",
    "    D.append(S[0]+G)\n",
    "    spend_time.append(D[0] - S[0])\n",
    "    for i in range(9):\n",
    "        U = np.random.uniform(0,1)\n",
    "        G = -math.log(U)\n",
    "        y.append(G)\n",
    "        D.append(max(D[i], S[i+1])+G)\n",
    "        spend_time.append(D[i+1]-S[i+1])\n",
    "    theta = sum(spend_time)\n",
    "    Y.append(10*np.mean(y))\n",
    "    mean_spendtime.append(theta)\n",
    "print(\"theta hat\", np.mean(mean_spendtime)) \n",
    "print(\"variance\", np.var(mean_spendtime) - pow(np.cov(mean_spendtime,Y)[1][0],2)/np.var(Y))"
   ]
  },
  {
   "cell_type": "code",
   "execution_count": 7,
   "metadata": {},
   "outputs": [
    {
     "name": "stdout",
     "output_type": "stream",
     "text": [
      "theta hat 35.67969807305372\n",
      "variance 80.63995444695621\n"
     ]
    }
   ],
   "source": [
    "#d\n",
    "Y = []\n",
    "variance = []\n",
    "mean_spendtime = []\n",
    "sim = 10000\n",
    "for j in range(sim):    \n",
    "    t = 0\n",
    "    S = []\n",
    "    I = []\n",
    "    y = []\n",
    "    lam = 2\n",
    "    D = []\n",
    "    spend_time = []\n",
    "    U = np.random.uniform(0,1,10)\n",
    "    for w in range(10):\n",
    "        t = t -math.log(U[w])/lam\n",
    "        S.append(t)\n",
    "        I.append(-math.log(U[w])/lam)\n",
    "    del I[9]\n",
    "    U = np.random.uniform(0,1)\n",
    "    G = -math.log(U)\n",
    "    y.append(G)\n",
    "    D.append(S[0]+G)\n",
    "    spend_time.append(D[0] - S[0])\n",
    "    for i in range(9):\n",
    "        U = np.random.uniform(0,1)\n",
    "        G = -math.log(U)\n",
    "        y.append(G)\n",
    "        D.append(max(D[i], S[i+1])+G)\n",
    "        spend_time.append(D[i+1]-S[i+1])\n",
    "    theta = sum(spend_time)\n",
    "    Y.append(10*np.mean(y) - 9*np.mean(I))\n",
    "    mean_spendtime.append(theta)\n",
    "print(\"theta hat\", np.mean(mean_spendtime)) \n",
    "print(\"variance\", np.var(mean_spendtime) - pow(np.cov(mean_spendtime,Y)[1][0],2)/np.var(Y))\n"
   ]
  },
  {
   "cell_type": "code",
   "execution_count": 8,
   "metadata": {},
   "outputs": [
    {
     "name": "stdout",
     "output_type": "stream",
     "text": [
      "theta hat 35.4683\n",
      "variance 103.45879511000001\n"
     ]
    }
   ],
   "source": [
    "#e\n",
    "variance = []\n",
    "mean_spendtime = []\n",
    "sim = 10000\n",
    "for j in range(sim):    \n",
    "    t = 0\n",
    "    S = []\n",
    "    lam = 2\n",
    "    D = []\n",
    "    N = []\n",
    "    spend_time = []\n",
    "    U = np.random.uniform(0,1,10)\n",
    "    for w in range(10):\n",
    "        t = t -math.log(U[w])/lam\n",
    "        S.append(t)\n",
    "    U = np.random.uniform(0,1)\n",
    "    G = -math.log(U)\n",
    "    D.append(S[0]+G)\n",
    "    spend_time.append(D[0] - S[0])\n",
    "    for i in range(9):\n",
    "        U = np.random.uniform(0,1)\n",
    "        G = -math.log(U)\n",
    "        D.append(max(D[i], S[i+1])+G)\n",
    "    N.append(0)\n",
    "    for k in range(9):\n",
    "        count = 0\n",
    "        z = 0\n",
    "        while(z<(k+1)):\n",
    "            if S[k+1] < D[z]:\n",
    "                count = count+1\n",
    "            z = z+1\n",
    "        N.append(count)\n",
    "    mean_spendtime.append(sum(N)+10)\n",
    "print(\"theta hat\", np.mean(mean_spendtime)) \n",
    "print(\"variance\", np.var(mean_spendtime))"
   ]
  },
  {
   "cell_type": "code",
   "execution_count": null,
   "metadata": {},
   "outputs": [],
   "source": []
  }
 ],
 "metadata": {
  "kernelspec": {
   "display_name": "Python 3",
   "language": "python",
   "name": "python3"
  },
  "language_info": {
   "codemirror_mode": {
    "name": "ipython",
    "version": 3
   },
   "file_extension": ".py",
   "mimetype": "text/x-python",
   "name": "python",
   "nbconvert_exporter": "python",
   "pygments_lexer": "ipython3",
   "version": "3.7.3"
  }
 },
 "nbformat": 4,
 "nbformat_minor": 2
}
