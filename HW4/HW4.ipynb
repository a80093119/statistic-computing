{
 "cells": [
  {
   "cell_type": "code",
   "execution_count": 1,
   "metadata": {},
   "outputs": [],
   "source": [
    "import numpy as np\n",
    "import math"
   ]
  },
  {
   "cell_type": "code",
   "execution_count": 7,
   "metadata": {},
   "outputs": [
    {
     "name": "stdout",
     "output_type": "stream",
     "text": [
      "發生事件的時間 [0.012420703825578572, 0.050432910110329854, 0.13641663901321585, 0.25984312628262834, 0.3610318939065796, 0.7442903067488176, 1.278850049005222, 1.3050857548019925, 1.4671227556732047, 1.7842085441634454, 1.895861223913581, 2.1952375946438707, 2.626257545743834, 2.7723564142166337, 2.7854969738246456, 2.9519224737150345, 3.3030569465555177, 3.3263394332193603, 3.490759052089016, 4.056393072009629, 4.422891966810518, 4.424019805448973, 5.065640379428279, 5.36928793766456, 5.515806767681972, 5.546731780400562, 5.815284657204931, 5.978941664632323, 6.149118795048681, 6.5378516460841505, 8.091579824534728, 8.336686177751458, 9.041077656043816, 9.756408612655418]\n",
      "總次數 34\n"
     ]
    }
   ],
   "source": [
    "#1.method1\n",
    "t = 0\n",
    "I = 0\n",
    "lam = 7\n",
    "S = []\n",
    "T = 10\n",
    "def lam_t(x):\n",
    "    return 3+4/(x+1)\n",
    "\n",
    "U = np.random.uniform(0, 1)\n",
    "t = t - math.log(U)/lam\n",
    "while(t <= T):\n",
    "    U = np.random.uniform(0, 1)\n",
    "    if U <= lam_t(t)/lam:\n",
    "        I = I+1\n",
    "        S.append(t)\n",
    "    U = np.random.uniform(0, 1)\n",
    "    t = t - math.log(U)/lam\n",
    "\n",
    "print(\"發生事件的時間\", S)\n",
    "print(\"總次數\",I)"
   ]
  },
  {
   "cell_type": "code",
   "execution_count": 3,
   "metadata": {},
   "outputs": [
    {
     "name": "stdout",
     "output_type": "stream",
     "text": [
      "[[1.         0.         0.        ]\n",
      " [0.25       0.96824584 0.        ]\n",
      " [0.16666667 0.04303315 0.98507379]]\n",
      "mean =  1.0126562674750244 2.0419890859166925 2.9971627350004364\n",
      "var =  0.8664155602090786 3.909655301271375 9.100286200849617\n",
      "cov = \n",
      " [[0.86728284 0.2839983  0.37642707]\n",
      " [0.2839983  3.91356887 0.5495015 ]\n",
      " [0.37642707 0.5495015  9.1093956 ]]\n",
      "cor = \n",
      " [[1.         0.1541519  0.13392316]\n",
      " [0.1541519  1.         0.09203174]\n",
      " [0.13392316 0.09203174 1.        ]]\n"
     ]
    }
   ],
   "source": [
    "#2.\n",
    "\n",
    "y = []\n",
    "y.append([])\n",
    "y.append([])\n",
    "y.append([])\n",
    "for i in range(3):\n",
    "    for j in range(1000):\n",
    "        U = np.random.uniform(0, 1, 3)\n",
    "        Y = -math.log(U[0])\n",
    "        while(U[1] > math.exp(-pow(Y-1,2)/2)):\n",
    "            U = np.random.uniform(0, 1, 3)\n",
    "            Y = -math.log(U[0])\n",
    "        X = Y\n",
    "        if U[2] <= 1/2: Z = X\n",
    "        else: Z = -X\n",
    "        y[i].append(Z)\n",
    "        \n",
    "cor = [[1, 0.5/2, 0.5/3],\n",
    "        [0.5/2, 1, 0.5/6],\n",
    "        [0.5/3, 0.5/6, 1]]\n",
    "L = np.linalg.cholesky(cor)\n",
    "print(L)\n",
    "W = np.dot(L, y)\n",
    "#print(np.mean(W[0]), np.mean(W[0]), np.mean(W[1])) #check mean\n",
    "#print(np.corrcoef(np.vstack((W[0],W[1],W[2])))) #check correlation\n",
    "def normal(v):\n",
    "    dx = 1\n",
    "    area = 0\n",
    "    y = 0\n",
    "    for x in range( 0, 1000, dx):\n",
    "        x = x/1000\n",
    "        y = v*math.exp(-pow(v*x, 2)/2)/math.sqrt(2*math.pi)\n",
    "        area = area + (y * (dx/1000))\n",
    "    if x>=0: return min(area+0.5, 0.99999999)\n",
    "    else: return max(area+0.5, 0.00000001)\n",
    "X = []\n",
    "X.append([])\n",
    "X.append([])\n",
    "X.append([])\n",
    "for i in range(3):\n",
    "    for j in range(1000):\n",
    "        temp = -math.log(1-normal(W[i][j]))*(i+1)\n",
    "        X[i].append(temp)\n",
    "Z = np.vstack((X[0],X[1],X[2]))\n",
    "print(\"mean = \", np.mean(X[0]), np.mean(X[1]), np.mean(X[2]))\n",
    "print(\"var = \", np.var(X[0]), np.var(X[1]), np.var(X[2]))\n",
    "print(\"cov = \\n\", np.cov(Z))\n",
    "print(\"cor = \\n\", np.corrcoef(Z))"
   ]
  },
  {
   "cell_type": "code",
   "execution_count": null,
   "metadata": {},
   "outputs": [],
   "source": []
  }
 ],
 "metadata": {
  "kernelspec": {
   "display_name": "Python 3",
   "language": "python",
   "name": "python3"
  },
  "language_info": {
   "codemirror_mode": {
    "name": "ipython",
    "version": 3
   },
   "file_extension": ".py",
   "mimetype": "text/x-python",
   "name": "python",
   "nbconvert_exporter": "python",
   "pygments_lexer": "ipython3",
   "version": "3.6.8"
  }
 },
 "nbformat": 4,
 "nbformat_minor": 2
}
