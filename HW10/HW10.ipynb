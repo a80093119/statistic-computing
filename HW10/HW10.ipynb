{
 "cells": [
  {
   "cell_type": "code",
   "execution_count": 46,
   "metadata": {},
   "outputs": [],
   "source": [
    "import numpy as np\n",
    "import math\n",
    "from scipy import stats\n",
    "from scipy.stats import binom, norm, beta, expon"
   ]
  },
  {
   "cell_type": "code",
   "execution_count": 7,
   "metadata": {},
   "outputs": [
    {
     "name": "stdout",
     "output_type": "stream",
     "text": [
      "E(XYZ) =  0.08868526247511184\n"
     ]
    }
   ],
   "source": [
    "E = []\n",
    "for j in range(10):\n",
    "    XYZ = []\n",
    "    for i in range(1000):\n",
    "        y = 0.5\n",
    "        z = 0.5\n",
    "        for k in range(1000):\n",
    "            U = np.random.uniform(0, 1, 3)\n",
    "            x = -math.log(U[0])/(y+z+1)\n",
    "            y = -math.log(U[1])/(x+z+1)\n",
    "            z = -math.log(U[2])/(x+y+1)\n",
    "        XYZ.append(x*y*z)\n",
    "    E.append(sum(XYZ)/1000)\n",
    "print(\"E(XYZ) = \", sum(E)/10)"
   ]
  },
  {
   "cell_type": "code",
   "execution_count": 64,
   "metadata": {},
   "outputs": [
    {
     "name": "stdout",
     "output_type": "stream",
     "text": [
      "E(X) =  1.589\n",
      "E(Y) =  0.39917226868347067\n",
      "E(N) =  3.979\n"
     ]
    }
   ],
   "source": [
    "X = []\n",
    "Y = []\n",
    "N = []\n",
    "for i in range(1000):\n",
    "    n = 5\n",
    "    y = 0.5\n",
    "    for j in range(1000):\n",
    "        x = binom.rvs(n, y)\n",
    "        y = beta.rvs(x+2, n-x+3)\n",
    "        nhat = np.random.poisson(lam = 4*(1-y))\n",
    "        n = nhat+x\n",
    "    X.append(x)\n",
    "    Y.append(y)\n",
    "    N.append(n)\n",
    "print(\"E(X) = \", sum(X)/1000)\n",
    "print(\"E(Y) = \", sum(Y)/1000)\n",
    "print(\"E(N) = \", sum(N)/1000)"
   ]
  },
  {
   "cell_type": "code",
   "execution_count": null,
   "metadata": {},
   "outputs": [],
   "source": []
  }
 ],
 "metadata": {
  "kernelspec": {
   "display_name": "Python 3",
   "language": "python",
   "name": "python3"
  },
  "language_info": {
   "codemirror_mode": {
    "name": "ipython",
    "version": 3
   },
   "file_extension": ".py",
   "mimetype": "text/x-python",
   "name": "python",
   "nbconvert_exporter": "python",
   "pygments_lexer": "ipython3",
   "version": "3.7.3"
  }
 },
 "nbformat": 4,
 "nbformat_minor": 2
}
