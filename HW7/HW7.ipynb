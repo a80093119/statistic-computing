{
 "cells": [
  {
   "cell_type": "code",
   "execution_count": 5,
   "metadata": {},
   "outputs": [],
   "source": [
    "import numpy as np\n",
    "import math"
   ]
  },
  {
   "cell_type": "code",
   "execution_count": null,
   "metadata": {},
   "outputs": [],
   "source": [
    "EX = []\n",
    "sim = 100\n",
    "sd = 1\n",
    "while(sd >= 0.01):\n",
    "    EX = []\n",
    "    while(len(EX) <= sim):\n",
    "        Y = []\n",
    "        Z = []\n",
    "        n = 1000\n",
    "        for i in range(n):\n",
    "            U = np.random.uniform(0,1)\n",
    "            X = -math.log(U)\n",
    "            if X>10:\n",
    "                Y.append(X)\n",
    "                Z.append(1)\n",
    "            else:\n",
    "                Y.append(0)\n",
    "                Z.append(0)\n",
    "                \n",
    "        if sum(Z) != 0:\n",
    "            E = sum(Y)/(sum(Z))\n",
    "            EX.append(E)\n",
    "    sd = np.std(EX)\n",
    "    sim = sim+100\n",
    "    \n",
    "print(\"E(X|X>10) = \", np.mean(EX))\n",
    "print(\"sd(mean(EX) = )\", sd)\n",
    "print(\"sim = \", sim)"
   ]
  },
  {
   "cell_type": "code",
   "execution_count": 16,
   "metadata": {},
   "outputs": [
    {
     "ename": "KeyboardInterrupt",
     "evalue": "",
     "output_type": "error",
     "traceback": [
      "\u001b[1;31m---------------------------------------------------------------------------\u001b[0m",
      "\u001b[1;31mKeyboardInterrupt\u001b[0m                         Traceback (most recent call last)",
      "\u001b[1;32m<ipython-input-16-e7642274f8db>\u001b[0m in \u001b[0;36m<module>\u001b[1;34m\u001b[0m\n\u001b[0;32m      7\u001b[0m     \u001b[0mn\u001b[0m \u001b[1;33m=\u001b[0m \u001b[1;36m10000\u001b[0m\u001b[1;33m\u001b[0m\u001b[1;33m\u001b[0m\u001b[0m\n\u001b[0;32m      8\u001b[0m     \u001b[1;32mfor\u001b[0m \u001b[0mi\u001b[0m \u001b[1;32min\u001b[0m \u001b[0mrange\u001b[0m\u001b[1;33m(\u001b[0m\u001b[0mn\u001b[0m\u001b[1;33m)\u001b[0m\u001b[1;33m:\u001b[0m\u001b[1;33m\u001b[0m\u001b[1;33m\u001b[0m\u001b[0m\n\u001b[1;32m----> 9\u001b[1;33m         \u001b[0mU\u001b[0m \u001b[1;33m=\u001b[0m \u001b[0mnp\u001b[0m\u001b[1;33m.\u001b[0m\u001b[0mrandom\u001b[0m\u001b[1;33m.\u001b[0m\u001b[0muniform\u001b[0m\u001b[1;33m(\u001b[0m\u001b[1;36m0\u001b[0m\u001b[1;33m,\u001b[0m\u001b[1;36m1\u001b[0m\u001b[1;33m)\u001b[0m\u001b[1;33m\u001b[0m\u001b[1;33m\u001b[0m\u001b[0m\n\u001b[0m\u001b[0;32m     10\u001b[0m         \u001b[0mX\u001b[0m \u001b[1;33m=\u001b[0m \u001b[1;33m-\u001b[0m\u001b[1;36m10\u001b[0m\u001b[1;33m*\u001b[0m\u001b[0mmath\u001b[0m\u001b[1;33m.\u001b[0m\u001b[0mlog\u001b[0m\u001b[1;33m(\u001b[0m\u001b[0mU\u001b[0m\u001b[1;33m)\u001b[0m \u001b[1;31m# X~Exp(lam = 1/10)\u001b[0m\u001b[1;33m\u001b[0m\u001b[1;33m\u001b[0m\u001b[0m\n\u001b[0;32m     11\u001b[0m         \u001b[1;32mif\u001b[0m \u001b[0mX\u001b[0m\u001b[1;33m>\u001b[0m\u001b[1;36m10\u001b[0m\u001b[1;33m:\u001b[0m\u001b[1;33m\u001b[0m\u001b[1;33m\u001b[0m\u001b[0m\n",
      "\u001b[1;31mKeyboardInterrupt\u001b[0m: "
     ]
    }
   ],
   "source": [
    "EX = []\n",
    "sim = 0\n",
    "sd = 1\n",
    "while(sd >= 0.01):\n",
    "    Y = []\n",
    "    Z = []\n",
    "    n = 1000\n",
    "    for i in range(n):\n",
    "        U = np.random.uniform(0,1)\n",
    "        X = -10*math.log(U) # X~Exp(lam = 1/10)\n",
    "        if X>10:\n",
    "            Y.append(X*10*math.exp(-0.9*X))\n",
    "            Z.append(1*10*math.exp(-0.9*X))\n",
    "        else:\n",
    "            Y.append(0)\n",
    "            Z.append(0)\n",
    "    E = sum(Y)/(sum(Z))\n",
    "    EX.append(E)\n",
    "    sd = np.std(EX)\n",
    "    if sd == 0: \n",
    "        sd = 1\n",
    "    sim = sim+1\n",
    "print(\"E(X|X>10)\", np.mean(EX))\n",
    "print(\"sd(mean(EX))\", sd)\n",
    "print(\"sim\", sim)"
   ]
  },
  {
   "cell_type": "code",
   "execution_count": null,
   "metadata": {},
   "outputs": [],
   "source": []
  }
 ],
 "metadata": {
  "kernelspec": {
   "display_name": "Python 3",
   "language": "python",
   "name": "python3"
  },
  "language_info": {
   "codemirror_mode": {
    "name": "ipython",
    "version": 3
   },
   "file_extension": ".py",
   "mimetype": "text/x-python",
   "name": "python",
   "nbconvert_exporter": "python",
   "pygments_lexer": "ipython3",
   "version": "3.7.3"
  }
 },
 "nbformat": 4,
 "nbformat_minor": 2
}
